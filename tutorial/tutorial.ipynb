{
 "cells": [
  {
   "cell_type": "code",
   "execution_count": null,
   "id": "01fa3eab",
   "metadata": {},
   "outputs": [],
   "source": [
    "import numpy as np\n",
    "from matplotlib import pyplot as plt\n",
    "from semiZ import fitSemiempirical, calcLookupTables, Lookup, calcZ"
   ]
  },
  {
   "cell_type": "markdown",
   "id": "02c4e918",
   "metadata": {},
   "source": [
    "# Step 1:  Load data"
   ]
  },
  {
   "cell_type": "markdown",
   "id": "0d60b12b",
   "metadata": {},
   "source": [
    "### Load the beam spectra and detector response"
   ]
  },
  {
   "cell_type": "code",
   "execution_count": null,
   "id": "83ef46bb",
   "metadata": {},
   "outputs": [],
   "source": [
    "phi_H = np.load(\"data/phi_9MeV.npy\")\n",
    "phi_L = np.load(\"data/phi_6MeV.npy\")\n",
    "D = np.load(\"data/D.npy\")\n",
    "E = np.load(\"data/E.npy\")"
   ]
  },
  {
   "cell_type": "code",
   "execution_count": null,
   "id": "28812606",
   "metadata": {},
   "outputs": [],
   "source": [
    "plt.figure(figsize = [8, 6])\n",
    "plt.plot(E, phi_H[0], color='r', linewidth=3, label = r\"9 MeV spectrum at $\\theta = 0^\\circ$\")\n",
    "plt.plot(E, phi_L[0], color='b', linewidth=3, label = r\"6 MeV spectrum at $\\theta = 0^\\circ$\")\n",
    "plt.xlabel(\"Energy (MeV)\", fontsize=19)\n",
    "plt.ylabel(\"Differential Flux (MeV$^{-1}$)\", fontsize=19)\n",
    "plt.xticks(fontsize=14)\n",
    "plt.yticks(fontsize=14)\n",
    "plt.grid()\n",
    "plt.xlim([0, 9])\n",
    "plt.gca().set_ylim(bottom=0)\n",
    "plt.legend(fontsize=19)"
   ]
  },
  {
   "cell_type": "markdown",
   "id": "8eace289",
   "metadata": {},
   "source": [
    "### Load calibration data"
   ]
  },
  {
   "cell_type": "code",
   "execution_count": null,
   "id": "2bc513d7",
   "metadata": {},
   "outputs": [],
   "source": [
    "alpha_H_calib = np.load(\"data/alpha_H_calib.npy\")\n",
    "alpha_L_calib = np.load(\"data/alpha_L_calib.npy\")\n",
    "lmbda_calib = np.load(\"data/lmbda_calib.npy\")\n",
    "Z_calib = np.load(\"data/Z_calib.npy\")"
   ]
  },
  {
   "cell_type": "markdown",
   "id": "da34e19c",
   "metadata": {},
   "source": [
    "# Step 2: Perform the calibration"
   ]
  },
  {
   "cell_type": "code",
   "execution_count": null,
   "id": "cea19f6e",
   "metadata": {
    "scrolled": true
   },
   "outputs": [],
   "source": [
    "k_bins = phi_H.shape[0]\n",
    "\n",
    "a_H = np.zeros(k_bins)\n",
    "b_H = np.zeros(k_bins)\n",
    "c_H = np.zeros(k_bins)\n",
    "a_L = np.zeros(k_bins)\n",
    "b_L = np.zeros(k_bins)\n",
    "c_L = np.zeros(k_bins)\n",
    "\n",
    "for i in range(k_bins):\n",
    "    a_H[i], b_H[i], c_H[i] = fitSemiempirical(alpha_H_calib[i], lmbda_calib[i], Z_calib[i], phi_H[i], D, E)\n",
    "    a_L[i], b_L[i], c_L[i] = fitSemiempirical(alpha_L_calib[i], lmbda_calib[i], Z_calib[i], phi_L[i], D, E)"
   ]
  },
  {
   "cell_type": "markdown",
   "id": "a1d2470a",
   "metadata": {},
   "source": [
    "# Step 3: precompute the forward model"
   ]
  },
  {
   "cell_type": "markdown",
   "id": "e59de2bd",
   "metadata": {},
   "source": [
    "### Use calibration parameters to compute lookup tables"
   ]
  },
  {
   "cell_type": "code",
   "execution_count": null,
   "id": "fa527ee3",
   "metadata": {},
   "outputs": [],
   "source": [
    "lmbda_range = np.linspace(0, 300, 301)\n",
    "Z_range = np.arange(1, 101)\n",
    "tables = calcLookupTables(phi_H, phi_L, D, E, a_H, b_H, c_H, a_L, b_L, c_L, lmbda_range, Z_range)"
   ]
  },
  {
   "cell_type": "markdown",
   "id": "06d50562",
   "metadata": {},
   "source": [
    "### Use the lookup tables to define a Lookup object for computing the forward model"
   ]
  },
  {
   "cell_type": "code",
   "execution_count": null,
   "id": "cf567c78",
   "metadata": {},
   "outputs": [],
   "source": [
    "lookup = Lookup(tables, lmbda_range, Z_range, interpolate_lmbda = True)"
   ]
  },
  {
   "cell_type": "markdown",
   "id": "cf614f9c",
   "metadata": {},
   "source": [
    "# Step 4:  run analysis on cargo images"
   ]
  },
  {
   "cell_type": "markdown",
   "id": "61943a29",
   "metadata": {},
   "source": [
    "### Load simulation results"
   ]
  },
  {
   "cell_type": "code",
   "execution_count": null,
   "id": "d2a207c6",
   "metadata": {},
   "outputs": [],
   "source": [
    "im_H = np.load(\"data/im_H.npy\")\n",
    "im_L = np.load(\"data/im_L.npy\")\n",
    "\n",
    "plt.figure(figsize = [20, 4])\n",
    "plt.imshow(im_H, cmap=\"plasma\", extent=[0, im_H.shape[1], 0, im_H.shape[0]], vmin=0, vmax=4, interpolation=\"nearest\")\n",
    "plt.xticks(fontsize=14)\n",
    "plt.yticks(fontsize=14)\n",
    "plt.xlabel(\"Horizontal Pixel Index\", fontsize=19)\n",
    "plt.ylabel(\"Vertical Pixel Index\", fontsize=19)\n",
    "cb = plt.colorbar(pad=0.01)\n",
    "cb.set_label(r\"$\\alpha_H$\", fontsize=19)\n",
    "cb.ax.tick_params(labelsize=14)"
   ]
  },
  {
   "cell_type": "markdown",
   "id": "29520dc7",
   "metadata": {},
   "source": [
    "### Reconstruct $Z$ without segmentation"
   ]
  },
  {
   "cell_type": "code",
   "execution_count": null,
   "id": "8a600a42",
   "metadata": {},
   "outputs": [],
   "source": [
    "lmbda, Z = calcZ(im_H, im_L, lookup)\n",
    "\n",
    "transparency = np.minimum(lmbda / np.percentile(lmbda, 99), 1)\n",
    "plt.figure(figsize = [20, 4])\n",
    "plt.imshow(Z, alpha=transparency, extent=[0, Z.shape[1], 0, Z.shape[0]], \n",
    "           vmin=1, vmax=80, interpolation=\"nearest\")\n",
    "plt.xticks(fontsize=14)\n",
    "plt.yticks(fontsize=14)\n",
    "plt.xlabel(\"Horizontal Pixel Index\", fontsize=19)\n",
    "plt.ylabel(\"Vertical Pixel Index\", fontsize=19)\n",
    "cb = plt.colorbar(pad=0.01)\n",
    "cb.set_label(\"Atomic Number\", fontsize=19)\n",
    "cb.ax.tick_params(labelsize=14)"
   ]
  },
  {
   "cell_type": "markdown",
   "id": "a95c7f45",
   "metadata": {},
   "source": [
    "### Reconstruct $Z$ with segmentation"
   ]
  },
  {
   "cell_type": "code",
   "execution_count": null,
   "id": "bf3a62f6",
   "metadata": {},
   "outputs": [],
   "source": [
    "from skimage.segmentation import felzenszwalb\n",
    "scale = 2000\n",
    "sigma = 0.0\n",
    "min_size = 20\n",
    "labels = felzenszwalb(np.dstack((im_H, im_L)), scale=scale, sigma=sigma, min_size=min_size)"
   ]
  },
  {
   "cell_type": "code",
   "execution_count": null,
   "id": "7a2ca0cd",
   "metadata": {},
   "outputs": [],
   "source": [
    "lmbda, Z = calcZ(im_H, im_L, lookup, labels=labels)\n",
    "\n",
    "transparency = np.minimum(lmbda / np.percentile(lmbda, 99), 1)\n",
    "plt.figure(figsize = [20, 4])\n",
    "plt.imshow(Z, alpha=transparency, extent=[0, Z.shape[1], 0, Z.shape[0]], \n",
    "           vmin=1, vmax=80, interpolation=\"nearest\")\n",
    "plt.xticks(fontsize=14)\n",
    "plt.yticks(fontsize=14)\n",
    "plt.xlabel(\"Horizontal Pixel Index\", fontsize=19)\n",
    "plt.ylabel(\"Vertical Pixel Index\", fontsize=19)\n",
    "cb = plt.colorbar(pad=0.01)\n",
    "cb.set_label(\"Atomic Number\", fontsize=19)\n",
    "cb.ax.tick_params(labelsize=14)"
   ]
  }
 ],
 "metadata": {
  "kernelspec": {
   "display_name": "Python 3",
   "language": "python",
   "name": "python3"
  },
  "language_info": {
   "codemirror_mode": {
    "name": "ipython",
    "version": 3
   },
   "file_extension": ".py",
   "mimetype": "text/x-python",
   "name": "python",
   "nbconvert_exporter": "python",
   "pygments_lexer": "ipython3",
   "version": "3.7.16"
  }
 },
 "nbformat": 4,
 "nbformat_minor": 5
}
